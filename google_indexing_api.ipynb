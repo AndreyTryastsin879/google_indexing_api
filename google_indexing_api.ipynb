{
 "cells": [
  {
   "cell_type": "markdown",
   "id": "3ceaf521",
   "metadata": {},
   "source": [
    "## Содержание:\n",
    "* [1. Отправка списка страниц на индексирование в Google Indexing API](#1)\n",
    "* [-- Настройки](#2)\n",
    "* [-- Загрузка файла xlsx с url для индексирования](#3)\n",
    "* [-- Отправка на индексирование](#4)\n"
   ]
  },
  {
   "cell_type": "markdown",
   "id": "6e7beaf5",
   "metadata": {},
   "source": [
    "## Пакет для работы, если не был установлен ранее"
   ]
  },
  {
   "cell_type": "code",
   "execution_count": null,
   "id": "c6c7462b",
   "metadata": {},
   "outputs": [],
   "source": [
    "#pip install google-api-python-client"
   ]
  },
  {
   "cell_type": "markdown",
   "id": "f789d4eb",
   "metadata": {},
   "source": [
    "# Отправка списка страниц на индексирование в Google Indexing API<a class=\"anchor\" id=\"1\"></a>"
   ]
  },
  {
   "cell_type": "code",
   "execution_count": 6,
   "id": "16a2f7e6",
   "metadata": {},
   "outputs": [],
   "source": [
    "import json\n",
    "import time\n",
    "import requests\n",
    "\n",
    "import httplib2\n",
    "from oauth2client.service_account import ServiceAccountCredentials\n",
    "\n",
    "import pandas as pd"
   ]
  },
  {
   "cell_type": "markdown",
   "id": "53979924",
   "metadata": {},
   "source": [
    "## Настройки<a class=\"anchor\" id=\"2\"></a>"
   ]
  },
  {
   "cell_type": "markdown",
   "id": "5a5a2d86",
   "metadata": {},
   "source": [
    "### Ресурсы для отправки"
   ]
  },
  {
   "cell_type": "code",
   "execution_count": 2,
   "id": "311b270a",
   "metadata": {},
   "outputs": [],
   "source": [
    "SCOPES = [\"https://www.googleapis.com/auth/indexing\"]\n",
    "ENDPOINT = \"https://indexing.googleapis.com/v3/urlNotifications:publish\""
   ]
  },
  {
   "cell_type": "markdown",
   "id": "f23860c7",
   "metadata": {},
   "source": [
    "**параметры проекта**"
   ]
  },
  {
   "cell_type": "code",
   "execution_count": 3,
   "id": "486ff6e4",
   "metadata": {},
   "outputs": [],
   "source": [
    "key = 'davita-5016199-74685386f70z1b' # укажите название скачанного json файла без расширения"
   ]
  },
  {
   "cell_type": "code",
   "execution_count": 4,
   "id": "86aadc04",
   "metadata": {},
   "outputs": [],
   "source": [
    "project_name = 'davita'"
   ]
  },
  {
   "cell_type": "markdown",
   "id": "85fdd7c3",
   "metadata": {},
   "source": [
    "## Загрузка URL для индексирования<a class=\"anchor\" id=\"3\"></a>"
   ]
  },
  {
   "cell_type": "markdown",
   "id": "e08137b2",
   "metadata": {},
   "source": [
    "Файл в формате xlsx с названием поля \"urls\":"
   ]
  },
  {
   "cell_type": "code",
   "execution_count": 7,
   "id": "8e9ddbd0",
   "metadata": {},
   "outputs": [],
   "source": [
    "table_with_urls_for_recrawl = pd.read_excel(f'{project_name}.xlsx')"
   ]
  },
  {
   "cell_type": "markdown",
   "id": "cf98ade8",
   "metadata": {},
   "source": [
    "## Отправка на индексирование <a class=\"anchor\" id=\"4\"></a>"
   ]
  },
  {
   "cell_type": "markdown",
   "id": "733d440d",
   "metadata": {},
   "source": [
    "Функция принимает датафрейм и ключ,<br>\n",
    "отправленные адреса добавляет в отдельный список,<br>\n",
    "пишет ответ и количество отправленных страниц,<br>\n",
    "возвращает сформированный список."
   ]
  },
  {
   "cell_type": "code",
   "execution_count": 8,
   "id": "36db9b21",
   "metadata": {},
   "outputs": [],
   "source": [
    "def send_pages_to_google_for_recrawl(data, key):\n",
    "\n",
    "    json_key_file = f\"{key}.json\"\n",
    "    credentials = ServiceAccountCredentials.from_json_keyfile_name(json_key_file, \n",
    "                                                                   scopes=SCOPES)\n",
    "    http = credentials.authorize(httplib2.Http())\n",
    "\n",
    "    sent_urls_for_recrawl = []\n",
    "    for url in data['urls']:\n",
    "        \n",
    "        urls = {'url': '{}'.format(url),\n",
    "                'type': 'URL_UPDATED'}\n",
    "\n",
    "        response, content = http.request(ENDPOINT, method=\"POST\", \n",
    "                                        body=json.dumps(urls))\n",
    "\n",
    "        time.sleep(1)\n",
    "\n",
    "        if response['status'] != '200':\n",
    "            break\n",
    "\n",
    "        sent_urls_for_recrawl.append(url)\n",
    "\n",
    "    sent_urls_list_len = len(sent_urls_for_recrawl)\n",
    "\n",
    "    print(response['status'])\n",
    "    print(content.decode())\n",
    "\n",
    "    print('На переобход отправлено:', sent_urls_list_len)\n",
    "    \n",
    "    return sent_urls_for_recrawl"
   ]
  },
  {
   "cell_type": "markdown",
   "id": "b5fc0bd7",
   "metadata": {},
   "source": [
    "### Удаление из списка и экспорт"
   ]
  },
  {
   "cell_type": "markdown",
   "id": "3820aa2e",
   "metadata": {},
   "source": [
    "Функция принимает датафрейм и список отправленных url,<br>\n",
    "Из загруженной таблицы удаляются url, которые были отправлены. Это нужно для того, чтобы в следующий раз, когда обновится квота, эти же страницы не оправлялись на переобход."
   ]
  },
  {
   "cell_type": "markdown",
   "id": "e8f4c750",
   "metadata": {},
   "source": [
    "**Экспорт**"
   ]
  },
  {
   "cell_type": "code",
   "execution_count": 9,
   "id": "9d07e079",
   "metadata": {},
   "outputs": [],
   "source": [
    "def export_data_to_excel(data):\n",
    "    project_report = pd.ExcelWriter(f'{project_name}.xlsx', engine='xlsxwriter')\n",
    "    data.to_excel(project_report, index=False)\n",
    "    project_report.save()"
   ]
  },
  {
   "cell_type": "markdown",
   "id": "6b98609e",
   "metadata": {},
   "source": [
    "**Удаление и экспорт**"
   ]
  },
  {
   "cell_type": "code",
   "execution_count": 10,
   "id": "21ea155d",
   "metadata": {},
   "outputs": [],
   "source": [
    "def delete_sent_urls_and_export_new_table(data, sent_urls_for_recrawl):\n",
    "    data = data[~data['urls'].isin(sent_urls_for_recrawl)]\n",
    "    export_data_to_excel(data)"
   ]
  },
  {
   "cell_type": "markdown",
   "id": "a811e1e1",
   "metadata": {},
   "source": [
    "## Главная функция"
   ]
  },
  {
   "cell_type": "code",
   "execution_count": 11,
   "id": "a50e0435",
   "metadata": {},
   "outputs": [],
   "source": [
    "def main_send_pages_to_google_for_recrawl(data):\n",
    "    \n",
    "    sent_urls_for_recrawl = send_pages_to_google_for_recrawl(data, key)\n",
    "    \n",
    "    delete_sent_urls_and_export_new_table(data, sent_urls_for_recrawl)"
   ]
  },
  {
   "cell_type": "markdown",
   "id": "86e3e48a",
   "metadata": {},
   "source": [
    "## Запуск"
   ]
  },
  {
   "cell_type": "code",
   "execution_count": 13,
   "id": "c09028fb",
   "metadata": {},
   "outputs": [
    {
     "name": "stdout",
     "output_type": "stream",
     "text": [
      "429\n",
      "{\n",
      "  \"error\": {\n",
      "    \"code\": 429,\n",
      "    \"message\": \"Quota exceeded for quota metric 'Publish requests' and limit 'Publish requests per day' of service 'indexing.googleapis.com' for consumer 'project_number:955122624583'.\",\n",
      "    \"status\": \"RESOURCE_EXHAUSTED\",\n",
      "    \"details\": [\n",
      "      {\n",
      "        \"@type\": \"type.googleapis.com/google.rpc.ErrorInfo\",\n",
      "        \"reason\": \"RATE_LIMIT_EXCEEDED\",\n",
      "        \"domain\": \"googleapis.com\",\n",
      "        \"metadata\": {\n",
      "          \"consumer\": \"projects/955122624583\",\n",
      "          \"quota_limit_value\": \"200\",\n",
      "          \"quota_metric\": \"indexing.googleapis.com/v3_publish_requests\",\n",
      "          \"service\": \"indexing.googleapis.com\",\n",
      "          \"quota_location\": \"global\",\n",
      "          \"quota_limit\": \"DefaultPublishRequestsPerDayPerProject\"\n",
      "        }\n",
      "      },\n",
      "      {\n",
      "        \"@type\": \"type.googleapis.com/google.rpc.Help\",\n",
      "        \"links\": [\n",
      "          {\n",
      "            \"description\": \"Request a higher quota limit.\",\n",
      "            \"url\": \"https://cloud.google.com/docs/quota#requesting_higher_quota\"\n",
      "          }\n",
      "        ]\n",
      "      }\n",
      "    ]\n",
      "  }\n",
      "}\n",
      "\n",
      "На переобход отправлено: 206\n"
     ]
    }
   ],
   "source": [
    "main_send_pages_to_google_for_recrawl(table_with_urls_for_recrawl)"
   ]
  },
  {
   "cell_type": "code",
   "execution_count": null,
   "id": "24636976",
   "metadata": {},
   "outputs": [],
   "source": []
  }
 ],
 "metadata": {
  "kernelspec": {
   "display_name": "Python 3",
   "language": "python",
   "name": "python3"
  },
  "language_info": {
   "codemirror_mode": {
    "name": "ipython",
    "version": 3
   },
   "file_extension": ".py",
   "mimetype": "text/x-python",
   "name": "python",
   "nbconvert_exporter": "python",
   "pygments_lexer": "ipython3",
   "version": "3.7.9"
  }
 },
 "nbformat": 4,
 "nbformat_minor": 5
}
