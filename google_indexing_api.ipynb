{
 "cells": [
  {
   "cell_type": "markdown",
   "id": "3ceaf521",
   "metadata": {},
   "source": [
    "## Содержание:\n",
    "* [1. Отправка списка страниц на индексирование в Google Indexing API](#1)\n",
    "* [-- Настройки](#2)\n",
    "* [-- Загрузка файла xlsx с url для индексирования](#3)\n",
    "* [-- Отправка на индексирование](#4)\n",
    "<br>\n",
    "<br>\n",
    "* [1. Отправка списка страниц в Google Indexing API c обходом ограничения по квоте](#5)\n",
    "* [-- Настройки](#6)\n",
    "* [-- Загрузка файла xlsx с url для индексирования](#7)\n",
    "* [-- Отправка на индексирование](#8)"
   ]
  },
  {
   "cell_type": "markdown",
   "id": "f50baeda",
   "metadata": {},
   "source": [
    "## Пакет для работы, если не был установлен ранее"
   ]
  },
  {
   "cell_type": "code",
   "execution_count": null,
   "id": "b2391c38",
   "metadata": {},
   "outputs": [],
   "source": [
    "#pip install google-api-python-client"
   ]
  },
  {
   "cell_type": "markdown",
   "id": "f789d4eb",
   "metadata": {},
   "source": [
    "# Отправка списка страниц на индексирование в Google Indexing API<a class=\"anchor\" id=\"1\"></a>"
   ]
  },
  {
   "cell_type": "code",
   "execution_count": 1,
   "id": "16a2f7e6",
   "metadata": {},
   "outputs": [],
   "source": [
    "import json\n",
    "import time\n",
    "import requests\n",
    "\n",
    "import httplib2\n",
    "from oauth2client.service_account import ServiceAccountCredentials\n",
    "\n",
    "import pandas as pd"
   ]
  },
  {
   "cell_type": "markdown",
   "id": "53979924",
   "metadata": {},
   "source": [
    "## Настройки<a class=\"anchor\" id=\"2\"></a>"
   ]
  },
  {
   "cell_type": "markdown",
   "id": "12a588b7",
   "metadata": {},
   "source": [
    "### Ресурсы для отправки"
   ]
  },
  {
   "cell_type": "code",
   "execution_count": 2,
   "id": "91091dad",
   "metadata": {},
   "outputs": [],
   "source": [
    "SCOPES = [\"https://www.googleapis.com/auth/indexing\"]\n",
    "ENDPOINT = \"https://indexing.googleapis.com/v3/urlNotifications:publish\""
   ]
  },
  {
   "cell_type": "markdown",
   "id": "f23860c7",
   "metadata": {},
   "source": [
    "**параметры проекта**"
   ]
  },
  {
   "cell_type": "code",
   "execution_count": 3,
   "id": "486ff6e4",
   "metadata": {},
   "outputs": [],
   "source": [
    "key = 'davita-5016199-74685386f70z1b' # укажите название скачанного json файла без расширения"
   ]
  },
  {
   "cell_type": "code",
   "execution_count": 4,
   "id": "4877c55d",
   "metadata": {},
   "outputs": [],
   "source": [
    "project_name = 'davita'"
   ]
  },
  {
   "cell_type": "markdown",
   "id": "85fdd7c3",
   "metadata": {},
   "source": [
    "## Загрузка URL для индексирования<a class=\"anchor\" id=\"3\"></a>"
   ]
  },
  {
   "cell_type": "markdown",
   "id": "e08137b2",
   "metadata": {},
   "source": [
    "Файл в формате xlsx с названием поля \"urls\":"
   ]
  },
  {
   "cell_type": "code",
   "execution_count": 5,
   "id": "8e9ddbd0",
   "metadata": {},
   "outputs": [],
   "source": [
    "table_with_urls_for_recrawl = pd.read_excel(f'{project_name}.xlsx')"
   ]
  },
  {
   "cell_type": "markdown",
   "id": "cf98ade8",
   "metadata": {},
   "source": [
    "## Отправка на индексирование <a class=\"anchor\" id=\"4\"></a>"
   ]
  },
  {
   "cell_type": "markdown",
   "id": "5d19a325",
   "metadata": {},
   "source": [
    "Функция принимает множество (set) url и ключ,<br>\n",
    "отправленные адреса добавляет в отдельный set,<br>\n",
    "пишет ответ и количество отправленных страниц,<br>\n",
    "возвращает set отправленных страниц."
   ]
  },
  {
   "cell_type": "code",
   "execution_count": 6,
   "id": "36db9b21",
   "metadata": {},
   "outputs": [],
   "source": [
    "def send_pages_to_google_for_recrawl(data, key):\n",
    "\n",
    "    json_key_file = f\"{key}.json\"\n",
    "    credentials = ServiceAccountCredentials.from_json_keyfile_name(json_key_file, \n",
    "                                                                   scopes=SCOPES)\n",
    "    http = credentials.authorize(httplib2.Http())\n",
    "\n",
    "    sent_urls_for_recrawl_set = set()\n",
    "    for url in data:\n",
    "        \n",
    "        urls = {'url': '{}'.format(url),\n",
    "                'type': 'URL_UPDATED'}\n",
    "\n",
    "        response, content = http.request(ENDPOINT, method=\"POST\", \n",
    "                                        body=json.dumps(urls))\n",
    "\n",
    "        time.sleep(1)\n",
    "\n",
    "        if response['status'] != '200':\n",
    "            break\n",
    "\n",
    "        sent_urls_for_recrawl_set.add(url)\n",
    "\n",
    "    sent_urls_set_len = len(sent_urls_for_recrawl_set)\n",
    "\n",
    "    print(response['status'])\n",
    "    print(content.decode())\n",
    "\n",
    "    print('На переобход отправлено:', sent_urls_set_len)\n",
    "    \n",
    "    return sent_urls_for_recrawl_set"
   ]
  },
  {
   "cell_type": "markdown",
   "id": "46765284",
   "metadata": {},
   "source": [
    "### Удаление из списка и экспорт"
   ]
  },
  {
   "cell_type": "markdown",
   "id": "c1a04c9d",
   "metadata": {},
   "source": [
    "Функция принимает set с со всеми адресами из загруженной таблицы и set отправленных url,<br>\n",
    "Из загруженной таблицы удаляются url, которые были отправлены. Это нужно для того, чтобы в следующий раз, когда обновится квота, эти же страницы не оправлялись на переобход."
   ]
  },
  {
   "cell_type": "markdown",
   "id": "10410df8",
   "metadata": {},
   "source": [
    "**Экспорт**"
   ]
  },
  {
   "cell_type": "code",
   "execution_count": 7,
   "id": "bed95b28",
   "metadata": {},
   "outputs": [],
   "source": [
    "def export_data_to_excel(data):\n",
    "    project_report = pd.ExcelWriter(f'{project_name}.xlsx', engine='xlsxwriter')\n",
    "    data.to_excel(project_report, index=False)\n",
    "    project_report.save()"
   ]
  },
  {
   "cell_type": "markdown",
   "id": "1c382208",
   "metadata": {},
   "source": [
    "**Удаление и экспорт**"
   ]
  },
  {
   "cell_type": "code",
   "execution_count": 8,
   "id": "1fd6acb3",
   "metadata": {},
   "outputs": [],
   "source": [
    "def delete_sent_urls_and_export_new_table(main_urls_set, sent_urls_for_recrawl_set):\n",
    "    \n",
    "    main_urls_set_without_sent_urls = main_urls_set - sent_urls_for_recrawl_set\n",
    "        \n",
    "    rest_urls_list = list(main_urls_set_without_sent_urls)\n",
    "    \n",
    "    data = pd.DataFrame({'urls': rest_urls_list})\n",
    "        \n",
    "    export_data_to_excel(data)"
   ]
  },
  {
   "cell_type": "markdown",
   "id": "e9fa1077",
   "metadata": {},
   "source": [
    "## Главная функция"
   ]
  },
  {
   "cell_type": "markdown",
   "id": "4aaef669",
   "metadata": {},
   "source": [
    "Принимает датафрейм, который был загружен в начале,<br>\n",
    "преобразует датафрейм в set,<br>\n",
    "отправляет на переобход,<br>\n",
    "удаляет из общего списка отправленные url и экспортирует датафрейм."
   ]
  },
  {
   "cell_type": "code",
   "execution_count": 13,
   "id": "f63eb6ef",
   "metadata": {},
   "outputs": [],
   "source": [
    "def main_send_pages_to_google_for_recrawl(data):\n",
    "    \n",
    "    main_urls_set = set(data['urls'].to_list())\n",
    "    \n",
    "    sent_urls_for_recrawl_set = send_pages_to_google_for_recrawl(main_urls_set, key)\n",
    "    \n",
    "    delete_sent_urls_and_export_new_table(main_urls_set, sent_urls_for_recrawl_set)"
   ]
  },
  {
   "cell_type": "markdown",
   "id": "a6fa25f9",
   "metadata": {},
   "source": [
    "## Запуск"
   ]
  },
  {
   "cell_type": "code",
   "execution_count": 14,
   "id": "a07d2682",
   "metadata": {},
   "outputs": [
    {
     "name": "stdout",
     "output_type": "stream",
     "text": [
      "429\n",
      "{\n",
      "  \"error\": {\n",
      "    \"code\": 429,\n",
      "    \"message\": \"Quota exceeded for quota metric 'Publish requests' and limit 'Publish requests per day' of service 'indexing.googleapis.com' for consumer 'project_number:955122624583'.\",\n",
      "    \"status\": \"RESOURCE_EXHAUSTED\",\n",
      "    \"details\": [\n",
      "      {\n",
      "        \"@type\": \"type.googleapis.com/google.rpc.ErrorInfo\",\n",
      "        \"reason\": \"RATE_LIMIT_EXCEEDED\",\n",
      "        \"domain\": \"googleapis.com\",\n",
      "        \"metadata\": {\n",
      "          \"quota_metric\": \"indexing.googleapis.com/v3_publish_requests\",\n",
      "          \"quota_limit\": \"DefaultPublishRequestsPerDayPerProject\",\n",
      "          \"quota_location\": \"global\",\n",
      "          \"consumer\": \"projects/955122624583\",\n",
      "          \"service\": \"indexing.googleapis.com\",\n",
      "          \"quota_limit_value\": \"200\"\n",
      "        }\n",
      "      },\n",
      "      {\n",
      "        \"@type\": \"type.googleapis.com/google.rpc.Help\",\n",
      "        \"links\": [\n",
      "          {\n",
      "            \"description\": \"Request a higher quota limit.\",\n",
      "            \"url\": \"https://cloud.google.com/docs/quota#requesting_higher_quota\"\n",
      "          }\n",
      "        ]\n",
      "      }\n",
      "    ]\n",
      "  }\n",
      "}\n",
      "\n",
      "На переобход отправлено: 2\n"
     ]
    }
   ],
   "source": [
    "main_send_pages_to_google_for_recrawl(table_with_urls_for_recrawl)"
   ]
  },
  {
   "cell_type": "markdown",
   "id": "d2beb816",
   "metadata": {},
   "source": [
    "# Отправка списка страниц в Google Indexing API больше предоставленной квоты<a class=\"anchor\" id=\"5\"></a>"
   ]
  },
  {
   "cell_type": "code",
   "execution_count": null,
   "id": "f40f6ad4",
   "metadata": {},
   "outputs": [],
   "source": [
    "import json\n",
    "import time\n",
    "import requests\n",
    "import traceback\n",
    "\n",
    "import httplib2\n",
    "from oauth2client.service_account import ServiceAccountCredentials\n",
    "\n",
    "import pandas as pd"
   ]
  },
  {
   "cell_type": "markdown",
   "id": "5ba37d5a",
   "metadata": {},
   "source": [
    "## Настройки<a class=\"anchor\" id=\"6\"></a>"
   ]
  },
  {
   "cell_type": "markdown",
   "id": "6be0a333",
   "metadata": {},
   "source": [
    "### Ресурсы для отправки"
   ]
  },
  {
   "cell_type": "code",
   "execution_count": null,
   "id": "caaca3e3",
   "metadata": {},
   "outputs": [],
   "source": [
    "SCOPES = [\"https://www.googleapis.com/auth/indexing\"]\n",
    "ENDPOINT = \"https://indexing.googleapis.com/v3/urlNotifications:publish\""
   ]
  },
  {
   "cell_type": "markdown",
   "id": "7433fc1d",
   "metadata": {},
   "source": [
    "**параметры проекта**"
   ]
  },
  {
   "cell_type": "code",
   "execution_count": null,
   "id": "6ba2ecd4",
   "metadata": {},
   "outputs": [],
   "source": [
    "key_path = '{}/{}.json'"
   ]
  },
  {
   "cell_type": "code",
   "execution_count": null,
   "id": "28c953ad",
   "metadata": {},
   "outputs": [],
   "source": [
    "project_name = 'koleso'"
   ]
  },
  {
   "cell_type": "markdown",
   "id": "a421aa12",
   "metadata": {},
   "source": [
    "## Загрузка URL для индексирования<a class=\"anchor\" id=\"7\"></a>\n"
   ]
  },
  {
   "cell_type": "code",
   "execution_count": null,
   "id": "3a3d4c88",
   "metadata": {},
   "outputs": [],
   "source": [
    "table_with_urls_for_recrawl = pd.read_csv(f'{project_name}.csv')"
   ]
  },
  {
   "cell_type": "markdown",
   "id": "f062b289",
   "metadata": {},
   "source": [
    "## Обработка ошибок"
   ]
  },
  {
   "cell_type": "code",
   "execution_count": 15,
   "id": "ea8c062c",
   "metadata": {},
   "outputs": [],
   "source": [
    "def error_report():\n",
    "    print('Ошибка')\n",
    "    traceback.print_exc()"
   ]
  },
  {
   "cell_type": "markdown",
   "id": "303ed7ea",
   "metadata": {},
   "source": [
    "## Отправка на индексирование <a class=\"anchor\" id=\"8\"></a>"
   ]
  },
  {
   "cell_type": "markdown",
   "id": "a94d98ce",
   "metadata": {},
   "source": [
    "Функция принимает множество (set) url, ключ и email,<br>\n",
    "отправленные адреса добавляет в отдельный set,<br>\n",
    "пишет ответ и количество отправленных страниц,<br>\n",
    "возвращает set отправленных страниц."
   ]
  },
  {
   "cell_type": "code",
   "execution_count": null,
   "id": "cbed5619",
   "metadata": {},
   "outputs": [],
   "source": [
    "def send_pages_to_google_for_recrawl(data, email, key):\n",
    "\n",
    "    json_key_file = key_path.format(email, key)\n",
    "    \n",
    "    credentials = ServiceAccountCredentials.from_json_keyfile_name(json_key_file, \n",
    "                                                                   scopes=SCOPES)\n",
    "    http = credentials.authorize(httplib2.Http())\n",
    "\n",
    "    sent_urls_for_recrawl_set = set()\n",
    "    for url in data:\n",
    "\n",
    "        urls = {'url': '{}'.format(url),\n",
    "                'type': 'URL_UPDATED'}\n",
    "\n",
    "        response, content = http.request(ENDPOINT, method=\"POST\", \n",
    "                                        body=json.dumps(urls))\n",
    "\n",
    "        time.sleep(0.5)\n",
    "\n",
    "        if response['status'] != '200':\n",
    "            break\n",
    "\n",
    "        \n",
    "        sent_urls_for_recrawl_set.add(url)\n",
    "        \n",
    "    #print(response['status'])\n",
    "    for keys,values in json.loads(content.decode())['error'].items():\n",
    "        print(values,'\\n')\n",
    "\n",
    "    sent_urls_set_len = len(sent_urls_for_recrawl_set)\n",
    "\n",
    "   \n",
    "    print('На переобход отправлено:', sent_urls_set_len,'\\n')\n",
    "\n",
    "    return sent_urls_for_recrawl_set"
   ]
  },
  {
   "cell_type": "markdown",
   "id": "180c7d3f",
   "metadata": {},
   "source": [
    "### Удаление из списка и экспорт"
   ]
  },
  {
   "cell_type": "markdown",
   "id": "9b7c8db9",
   "metadata": {},
   "source": [
    "Функция принимает set с со всеми адресами из загруженной таблицы и set отправленных url,<br>\n",
    "Из загруженной таблицы удаляются url, которые были отправлены. Это нужно для того, чтобы в следующий раз, когда обновится квота, эти же страницы не оправлялись на переобход."
   ]
  },
  {
   "cell_type": "code",
   "execution_count": 16,
   "id": "7337d644",
   "metadata": {},
   "outputs": [],
   "source": [
    "def delete_sent_urls_and_export_new_csv_table(main_urls_set, sent_urls_for_recrawl_set):\n",
    "    \n",
    "    print('Удаление отправленных URL','\\n')\n",
    "    \n",
    "    main_urls_set_without_sent_urls = main_urls_set - sent_urls_for_recrawl_set\n",
    "    \n",
    "    print('Длина общего списка после удаления отправленных URL:', len(main_urls_set_without_sent_urls),'\\n')\n",
    "    \n",
    "    rest_urls_list = list(main_urls_set_without_sent_urls)\n",
    "    \n",
    "    data = pd.DataFrame({'urls': rest_urls_list})\n",
    "    \n",
    "    print('Экспорт CSV','\\n','\\n')\n",
    "    \n",
    "    data.to_csv(f'{project_name}.csv', index=False)"
   ]
  },
  {
   "cell_type": "markdown",
   "id": "a953cba4",
   "metadata": {},
   "source": [
    "## Главная функция"
   ]
  },
  {
   "cell_type": "markdown",
   "id": "232dfccc",
   "metadata": {},
   "source": [
    "Открывает таблицу «settings_indexing_api», из которой берется email и название ключа,<br>\n",
    "открывается csv-файл с адресами на отправку, конвертируется в set,<br>\n",
    "затем отправляется по доступной квоте,<br>\n",
    "отправленные адреса удаляются из общего списка, экспортируется csv-файл."
   ]
  },
  {
   "cell_type": "code",
   "execution_count": null,
   "id": "c52ddaee",
   "metadata": {},
   "outputs": [],
   "source": [
    "def main_send_pages_to_google_for_recrawl():\n",
    "    \n",
    "    settings = pd.read_excel('google_indexing_settings.xlsx').to_dict('records')\n",
    "    \n",
    "    total_sent_urls_counter = 0\n",
    "    \n",
    "    for row in settings:\n",
    "        try:\n",
    "            email, service_email, key = row['email'], row['service_account_email'], row['key']\n",
    "\n",
    "            print(email)\n",
    "            print(service_email,'\\n')\n",
    "\n",
    "            data = pd.read_csv(f'{project_name}.csv')\n",
    "            \n",
    "            print('Длина общего списка URL:', len(data))\n",
    "            print('Конвертация в set')\n",
    "            \n",
    "            main_urls_set = set(data['urls'].to_list())\n",
    "            \n",
    "            print('Длина списка URL после конвертации в set:', len(main_urls_set),'\\n')\n",
    "\n",
    "            sent_urls_for_recrawl_set = send_pages_to_google_for_recrawl(main_urls_set, email, key)\n",
    "\n",
    "            delete_sent_urls_and_export_new_csv_table(main_urls_set, sent_urls_for_recrawl_set)\n",
    "\n",
    "            total_sent_urls_counter += len(sent_urls_for_recrawl_set)\n",
    "            \n",
    "            print('Ожидание 20 сек.','\\n','\\n')\n",
    "            time.sleep(20)\n",
    "            \n",
    "        except:\n",
    "            error_report()\n",
    "            \n",
    "    print('На переобход отправлено:', total_sent_urls_counter) "
   ]
  },
  {
   "cell_type": "markdown",
   "id": "d788e641",
   "metadata": {},
   "source": [
    "## Запуск"
   ]
  },
  {
   "cell_type": "code",
   "execution_count": null,
   "id": "74ad58f8",
   "metadata": {},
   "outputs": [],
   "source": [
    "main_send_pages_to_google_for_recrawl()"
   ]
  }
 ],
 "metadata": {
  "kernelspec": {
   "display_name": "Python 3",
   "language": "python",
   "name": "python3"
  },
  "language_info": {
   "codemirror_mode": {
    "name": "ipython",
    "version": 3
   },
   "file_extension": ".py",
   "mimetype": "text/x-python",
   "name": "python",
   "nbconvert_exporter": "python",
   "pygments_lexer": "ipython3",
   "version": "3.7.9"
  }
 },
 "nbformat": 4,
 "nbformat_minor": 5
}
